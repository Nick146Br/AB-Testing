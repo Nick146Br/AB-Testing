{
 "cells": [
  {
   "cell_type": "markdown",
   "metadata": {},
   "source": [
    "# AB - testing"
   ]
  },
  {
   "cell_type": "markdown",
   "metadata": {},
   "source": [
    "## Introduction"
   ]
  },
  {
   "cell_type": "markdown",
   "metadata": {},
   "source": [
    "We have a website that privdes machine learning content in a blog-like format. Recently you saw an article claiming that similar websites coud improve their engagement by simply using a specific color palette for the background. Since this change seems pretty easy to implement we decide to run an AB test to see if this change does in fact drive your users to stay more time in your website."
   ]
  },
  {
   "cell_type": "markdown",
   "metadata": {},
   "source": [
    "### Metric to evaluate"
   ]
  },
  {
   "cell_type": "markdown",
   "metadata": {},
   "source": [
    "Here we decide to evaluate the average session duration, which measures how much time on average your users are spending on your website. This metric currently has a value of 30.87 minutes."
   ]
  },
  {
   "cell_type": "markdown",
   "metadata": {},
   "source": [
    "We decide to run the test for 20 days randomly splitting the users in two segments: **Control** and **Variation**\n",
    "\n",
    "-> **Control**: Users that will keep seeing ther original website.\n",
    "\n",
    "-> **Variation**: Users that will see the website with the new background colors.\n"
   ]
  },
  {
   "cell_type": "markdown",
   "metadata": {},
   "source": [
    "### Loading data"
   ]
  },
  {
   "cell_type": "code",
   "execution_count": 4,
   "metadata": {},
   "outputs": [
    {
     "data": {
      "text/html": [
       "<div>\n",
       "<style scoped>\n",
       "    .dataframe tbody tr th:only-of-type {\n",
       "        vertical-align: middle;\n",
       "    }\n",
       "\n",
       "    .dataframe tbody tr th {\n",
       "        vertical-align: top;\n",
       "    }\n",
       "\n",
       "    .dataframe thead th {\n",
       "        text-align: right;\n",
       "    }\n",
       "</style>\n",
       "<table border=\"1\" class=\"dataframe\">\n",
       "  <thead>\n",
       "    <tr style=\"text-align: right;\">\n",
       "      <th></th>\n",
       "      <th>user_id</th>\n",
       "      <th>user_type</th>\n",
       "      <th>session_duration</th>\n",
       "    </tr>\n",
       "  </thead>\n",
       "  <tbody>\n",
       "    <tr>\n",
       "      <th>0</th>\n",
       "      <td>BM3C0BJ7CS</td>\n",
       "      <td>variation</td>\n",
       "      <td>15.528769</td>\n",
       "    </tr>\n",
       "    <tr>\n",
       "      <th>1</th>\n",
       "      <td>MJWN6XNH6L</td>\n",
       "      <td>variation</td>\n",
       "      <td>32.287590</td>\n",
       "    </tr>\n",
       "    <tr>\n",
       "      <th>2</th>\n",
       "      <td>46ZPHHABLS</td>\n",
       "      <td>variation</td>\n",
       "      <td>43.718217</td>\n",
       "    </tr>\n",
       "    <tr>\n",
       "      <th>3</th>\n",
       "      <td>OHA298DHUG</td>\n",
       "      <td>variation</td>\n",
       "      <td>49.519702</td>\n",
       "    </tr>\n",
       "    <tr>\n",
       "      <th>4</th>\n",
       "      <td>AKJ77X6F4A</td>\n",
       "      <td>control</td>\n",
       "      <td>61.709028</td>\n",
       "    </tr>\n",
       "  </tbody>\n",
       "</table>\n",
       "</div>"
      ],
      "text/plain": [
       "      user_id  user_type  session_duration\n",
       "0  BM3C0BJ7CS  variation         15.528769\n",
       "1  MJWN6XNH6L  variation         32.287590\n",
       "2  46ZPHHABLS  variation         43.718217\n",
       "3  OHA298DHUG  variation         49.519702\n",
       "4  AKJ77X6F4A    control         61.709028"
      ]
     },
     "execution_count": 4,
     "metadata": {},
     "output_type": "execute_result"
    }
   ],
   "source": [
    "import pandas as pd\n",
    "data = pd.read_csv(\"background_color_experiment.csv\")\n",
    "data.head(5)"
   ]
  },
  {
   "cell_type": "markdown",
   "metadata": {},
   "source": [
    "#### Dataset size"
   ]
  },
  {
   "cell_type": "code",
   "execution_count": 8,
   "metadata": {},
   "outputs": [
    {
     "name": "stdout",
     "output_type": "stream",
     "text": [
      "Dataset size -> 4186\n"
     ]
    }
   ],
   "source": [
    "print(f'Dataset size -> {len(data)}')"
   ]
  },
  {
   "cell_type": "markdown",
   "metadata": {},
   "source": [
    "The dataset has the user_id, user_type and session_duration. Then we will separate the dataset in two parts one with the control data, and other with variation."
   ]
  },
  {
   "cell_type": "code",
   "execution_count": 9,
   "metadata": {},
   "outputs": [
    {
     "name": "stdout",
     "output_type": "stream",
     "text": [
      "Control group size -> 2069\n",
      "Variation group size -> 2117\n"
     ]
    }
   ],
   "source": [
    "control_sd_data = data[data[\"user_type\"] == \"control\"][\"session_duration\"]\n",
    "variation_sd_data = data[data[\"user_type\"] == \"variation\"][\"session_duration\"]\n",
    "\n",
    "print(f'Control group size -> {len(control_sd_data)}')\n",
    "print(f'Variation group size -> {len(variation_sd_data)}')"
   ]
  },
  {
   "cell_type": "markdown",
   "metadata": {},
   "source": [
    "## Theory"
   ]
  },
  {
   "cell_type": "markdown",
   "metadata": {},
   "source": [
    "The goal of this experiment is to measure if changing the website's background color leads to an increase of the time visitors spend on it. Rewriting this as hypothesis test, the null hypothesis is that the change did not affect the time a visitor spend.\n",
    "\n",
    "- $\\mu_c$ is the average time a user **in the control group** spend in the website. Recall that the **control group** is the group accessing the website without the change in the background color.\n",
    "- $\\mu_v$ is the average time a user **in the variation groups** spend in the website. Recall that the **variation group** is the groups accessing the website **with the updated background color**.\n",
    "\n",
    "With these quantities in hand, the next steps are to compute:\n",
    "\n",
    "- $d$, the degrees of freedom of the $t$-student distribution, $t_d$.\n",
    "- The $t$-value, which it will be called $t$.\n",
    "- The $p$ value for the distribution $t_d$ for the $t$-value, i.e., the value  $p = P(t_d > t | H_0)$.\n",
    "\n",
    "Finally, for a given significance level $\\alpha$, you will be able to decide if you reject or not $H_0$, depending on wether $p \\leq \\alpha$ or not.\n",
    "\n",
    "Let's get your hands into work now! "
   ]
  },
  {
   "cell_type": "code",
   "execution_count": 10,
   "metadata": {},
   "outputs": [],
   "source": [
    "# X_c stores the session tome for the control group and X_v, for the variation group. \n",
    "X_c = control_sd_data.to_numpy()\n",
    "X_v = variation_sd_data.to_numpy()"
   ]
  },
  {
   "cell_type": "code",
   "execution_count": 11,
   "metadata": {},
   "outputs": [
    {
     "name": "stdout",
     "output_type": "stream",
     "text": [
      "The first 10 entries for X_c are:\n",
      "[ 61.70902753  25.21946052  26.2404824   58.7480264  137.03680289\n",
      "  19.92148102  18.8252202   75.25179496  38.27213776  29.17104128\n",
      "  15.69643672  37.83860271  30.06843075  21.00318148  86.19711927\n",
      "  46.96997965  46.47776713  14.83464105  17.70441365  26.44693676]\n",
      "\n",
      "The first 10 entries for X_v are:\n",
      "[15.52876878 32.28759003 43.7182168  49.51970242 71.77928343 23.29183517\n",
      " 20.78024375 36.44129464 48.75034676 16.5952978  44.49566616 26.67006134\n",
      " 34.43667579 20.72109411 19.60185277 41.74218978 19.74485294 32.62018094\n",
      " 44.99513901 70.8916231 ]\n",
      "\n"
     ]
    }
   ],
   "source": [
    "print(f\"The first 10 entries for X_c are:\\n{X_c[:20]}\\n\")\n",
    "print(f\"The first 10 entries for X_v are:\\n{X_v[:20]}\\n\")"
   ]
  },
  {
   "cell_type": "markdown",
   "metadata": {},
   "source": [
    "### Compute the size, mean and sample standard deviation"
   ]
  },
  {
   "cell_type": "code",
   "execution_count": 12,
   "metadata": {},
   "outputs": [],
   "source": [
    "def get_stats(X):\n",
    "    n_size = len(X)\n",
    "    mean = X.mean()\n",
    "    std = X.std(ddof=1) # Use N-1 instead of N in the denominator\n",
    "    return (n_size, mean, std)"
   ]
  },
  {
   "cell_type": "code",
   "execution_count": 13,
   "metadata": {},
   "outputs": [],
   "source": [
    "n_c, x_c, s_c = get_stats(X_c)\n",
    "n_v, x_v, s_v = get_stats(X_v)"
   ]
  },
  {
   "cell_type": "code",
   "execution_count": 14,
   "metadata": {},
   "outputs": [
    {
     "name": "stdout",
     "output_type": "stream",
     "text": [
      "For X_c:\n",
      "\tn_c = 2069, x_c = 32.92, s_c = 17.54 \n",
      "For X_v:\n",
      "\tn_v = 2117, x_v = 33.83, s_v = 18.24 \n"
     ]
    }
   ],
   "source": [
    "print(f\"For X_c:\\n\\tn_c = {n_c}, x_c = {x_c:.2f}, s_c = {s_c:.2f} \")\n",
    "print(f\"For X_v:\\n\\tn_v = {n_v}, x_v = {x_v:.2f}, s_v = {s_v:.2f} \")"
   ]
  },
  {
   "cell_type": "markdown",
   "metadata": {},
   "source": [
    "### Computing the function to compute the degrees of freedom for the t-student distribution.\n",
    "\n",
    "It is given by the following formula:\n",
    "\n",
    "$$d = \\frac{\\left[\\frac{s_{c}^2}{n_c} + \\frac{s_{v}^2}{n_v} \\right]^2}{\\frac{(s_{c}^2/n_c)^2}{n_c-1} + \\frac{(s_{v}^2/n_v)^2}{n_v-1}}$$"
   ]
  },
  {
   "cell_type": "code",
   "execution_count": 15,
   "metadata": {},
   "outputs": [],
   "source": [
    "def degrees_of_freedom(n_v, s_v, n_c, s_c):\n",
    "    s_v_squared = s_v ** 2\n",
    "    s_c_squared = s_c ** 2\n",
    "    s_v_n_v = s_v_squared / n_v\n",
    "    s_c_n_c = s_c_squared / n_c\n",
    "    numerator = (s_v_n_v + s_c_n_c) ** 2\n",
    "    denominator = (s_v_n_v ** 2) / (n_v - 1) + (s_c_n_c ** 2) / (n_c - 1)\n",
    "    dof = numerator / denominator\n",
    "    \n",
    "    return dof"
   ]
  },
  {
   "cell_type": "code",
   "execution_count": 16,
   "metadata": {},
   "outputs": [
    {
     "name": "stdout",
     "output_type": "stream",
     "text": [
      "The degrees of freedom for the t-student in this scenario is: 4182.97\n"
     ]
    }
   ],
   "source": [
    "d = degrees_of_freedom(n_v, s_v, n_c, s_c)\n",
    "print(f\"The degrees of freedom for the t-student in this scenario is: {d:.2f}\")"
   ]
  },
  {
   "cell_type": "markdown",
   "metadata": {},
   "source": [
    "## Computing the t-value"
   ]
  },
  {
   "cell_type": "markdown",
   "metadata": {},
   "source": [
    "The next step is to calculate the t-value, given by the following equation in this case\n",
    "\n",
    "$$t = \\frac{\\left( \\overline{X}_v - \\overline{X}_c \\right)}{\\sqrt{\\left(\\frac{s_v}{\\sqrt{n_v}}\\right)^2 + \\left(\\frac{s_c}{\\sqrt{n_c}}\\right)^2}} = \\frac{\\left( \\overline{X}_v - \\overline{X}_c \\right)}{\\sqrt{\\frac{s_v^2}{n_v} + \\frac{s_c^2}{n_c}}}$$"
   ]
  },
  {
   "cell_type": "code",
   "execution_count": 18,
   "metadata": {},
   "outputs": [],
   "source": [
    "def t_value(n_v, x_v, s_v, n_c, x_c, s_c):\n",
    "    s_v_squared = s_v ** 2\n",
    "    s_c_squared = s_c ** 2\n",
    "    s_v_n_v = s_v_squared / n_v\n",
    "    s_c_n_c = s_c_squared / n_c\n",
    "    numerator = x_v - x_c\n",
    "    denominator = (s_v_n_v + s_c_n_c) ** 0.5\n",
    "    t = numerator / denominator\n",
    "    return t"
   ]
  },
  {
   "cell_type": "code",
   "execution_count": 19,
   "metadata": {},
   "outputs": [
    {
     "name": "stdout",
     "output_type": "stream",
     "text": [
      "The t-value for this experiment is: 1.64\n"
     ]
    }
   ],
   "source": [
    "t = t_value(n_v, x_v, s_v, n_c, x_c, s_c)\n",
    "print(f\"The t-value for this experiment is: {t:.2f}\")"
   ]
  },
  {
   "cell_type": "markdown",
   "metadata": {},
   "source": [
    "### Calculating the p-value for a significance level $\\alpha$"
   ]
  },
  {
   "cell_type": "markdown",
   "metadata": {},
   "source": [
    "Here we will execute a right-tailed test, because we are investigating wether the background color change increases the time spent by users in your website or not."
   ]
  },
  {
   "cell_type": "markdown",
   "metadata": {},
   "source": [
    "In this experiment the p-value for a significance level of $\\alpha$ is given by:\n",
    "\n",
    "$$p = P(t_d > t) = 1 - \\text{CDF}_{t_d}(t)$$"
   ]
  },
  {
   "cell_type": "code",
   "execution_count": 20,
   "metadata": {},
   "outputs": [],
   "source": [
    "from scipy import stats\n",
    "def p_value(d, t_value):\n",
    "    t_d = stats.t(df=d) # Get the t-student distribution with d degrees of freedom\n",
    "    cdf = t_d.cdf(t_value) # Get the cumulative distribution function for the t-value\n",
    "    p = 1 - cdf\n",
    "    return p\n"
   ]
  },
  {
   "cell_type": "code",
   "execution_count": 21,
   "metadata": {},
   "outputs": [
    {
     "name": "stdout",
     "output_type": "stream",
     "text": [
      "The p-value for t_15 with t-value = 1.10 is: 0.1443\n",
      "The p-value for t_30 with t-value = 1.10 is: 0.1400\n"
     ]
    }
   ],
   "source": [
    "print(f\"The p-value for t_15 with t-value = 1.10 is: {p_value(15, 1.10):.4f}\")\n",
    "print(f\"The p-value for t_30 with t-value = 1.10 is: {p_value(30, 1.10):.4f}\")"
   ]
  },
  {
   "cell_type": "markdown",
   "metadata": {},
   "source": [
    "## Make the decision\n",
    "\n",
    "In the end we need to make a decision, accepting the ***$H_0$*** hypotheses or not, given a significance level $\\alpha$.\n",
    "\n",
    "We reject the hypotheses if the p-values is less than $\\alpha$"
   ]
  },
  {
   "cell_type": "code",
   "execution_count": 22,
   "metadata": {},
   "outputs": [],
   "source": [
    "def make_decision(X_v, X_c, alpha = 0.05):\n",
    "    n_v, x_v, s_v = get_stats(X_v)\n",
    "    n_c, x_c, s_c = get_stats(X_c)\n",
    "    d = degrees_of_freedom(n_v, s_v, n_c, s_c)\n",
    "    t = t_value(n_v, x_v, s_v, n_c, x_c, s_c)\n",
    "    p = p_value(d, t)\n",
    "    \n",
    "    if p < alpha:\n",
    "        return 'Reject H_0'\n",
    "    else:\n",
    "        return 'Do not reject H_0'"
   ]
  },
  {
   "cell_type": "code",
   "execution_count": 23,
   "metadata": {},
   "outputs": [
    {
     "name": "stdout",
     "output_type": "stream",
     "text": [
      "For an alpha of 0.06 the decision is to: Reject H_0\n",
      "For an alpha of 0.05 the decision is to: Do not reject H_0\n",
      "For an alpha of 0.04 the decision is to: Do not reject H_0\n",
      "For an alpha of 0.01 the decision is to: Do not reject H_0\n"
     ]
    }
   ],
   "source": [
    "alphas = [0.06, 0.05, 0.04, 0.01]\n",
    "for alpha in alphas:\n",
    "    print(f\"For an alpha of {alpha} the decision is to: {make_decision(X_v, X_c, alpha = alpha)}\")"
   ]
  },
  {
   "cell_type": "code",
   "execution_count": null,
   "metadata": {},
   "outputs": [],
   "source": []
  }
 ],
 "metadata": {
  "kernelspec": {
   "display_name": "nick",
   "language": "python",
   "name": "python3"
  },
  "language_info": {
   "codemirror_mode": {
    "name": "ipython",
    "version": 3
   },
   "file_extension": ".py",
   "mimetype": "text/x-python",
   "name": "python",
   "nbconvert_exporter": "python",
   "pygments_lexer": "ipython3",
   "version": "3.10.13"
  }
 },
 "nbformat": 4,
 "nbformat_minor": 2
}
